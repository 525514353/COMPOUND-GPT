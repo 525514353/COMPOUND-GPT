{
 "cells": [
  {
   "cell_type": "code",
   "execution_count": 1,
   "outputs": [],
   "source": [
    "from datasets import DatasetDict,load_from_disk,Dataset\n",
    "from rdkit import Chem\n",
    "def augment_smiles(smiles):\n",
    "    mol = Chem.MolFromSmiles(smiles)\n",
    "    if mol is not None:\n",
    "        random_smiles = Chem.MolToSmiles(mol, doRandom=True)\n",
    "        return random_smiles\n",
    "    else:\n",
    "        return None"
   ],
   "metadata": {
    "collapsed": false,
    "ExecuteTime": {
     "start_time": "2024-05-03T17:02:05.354209Z",
     "end_time": "2024-05-03T17:02:06.187210Z"
    }
   }
  },
  {
   "cell_type": "code",
   "execution_count": 2,
   "outputs": [
    {
     "name": "stderr",
     "output_type": "stream",
     "text": [
      "[17:02:07] WARNING: not removing hydrogen atom without neighbors\n",
      "[17:02:07] WARNING: not removing hydrogen atom without neighbors\n",
      "[17:02:07] WARNING: not removing hydrogen atom without neighbors\n"
     ]
    },
    {
     "data": {
      "text/plain": "Saving the dataset (0/1 shards):   0%|          | 0/2122 [00:00<?, ? examples/s]",
      "application/vnd.jupyter.widget-view+json": {
       "version_major": 2,
       "version_minor": 0,
       "model_id": "ee530a949ecb4c2c9a32e40f5794eb82"
      }
     },
     "metadata": {},
     "output_type": "display_data"
    },
    {
     "data": {
      "text/plain": "Saving the dataset (0/1 shards):   0%|          | 0/138 [00:00<?, ? examples/s]",
      "application/vnd.jupyter.widget-view+json": {
       "version_major": 2,
       "version_minor": 0,
       "model_id": "1f34f3f76cd84ed7a2709f2117742792"
      }
     },
     "metadata": {},
     "output_type": "display_data"
    },
    {
     "data": {
      "text/plain": "Saving the dataset (0/1 shards):   0%|          | 0/138 [00:00<?, ? examples/s]",
      "application/vnd.jupyter.widget-view+json": {
       "version_major": 2,
       "version_minor": 0,
       "model_id": "3816ce717d824969a040554aa045aaa2"
      }
     },
     "metadata": {},
     "output_type": "display_data"
    },
    {
     "data": {
      "text/plain": "DatasetDict({\n    train: Dataset({\n        features: ['smi', 'logkOH•', '__index_level_0__'],\n        num_rows: 2122\n    })\n    valid: Dataset({\n        features: ['num', 'Names', 'smi', 'Ref', 'logkOH•', 'outliers', 'train_set', 'valid_set', 'test_set', 'AD_screening'],\n        num_rows: 138\n    })\n    test: Dataset({\n        features: ['num', 'Names', 'smi', 'Ref', 'logkOH•', 'outliers', 'train_set', 'valid_set', 'test_set', 'AD_screening'],\n        num_rows: 138\n    })\n})"
     },
     "execution_count": 2,
     "metadata": {},
     "output_type": "execute_result"
    }
   ],
   "source": [
    "item='logkOH•'\n",
    "import pandas as pd\n",
    "\n",
    "data=load_from_disk('dataset')\n",
    "data['train']=data['train'].to_pandas()\n",
    "data['train']['augmented_smi']=data['train']['smi'].apply(augment_smiles)\n",
    "concat_data=pd.concat([data['train'][['smi', item]], data['train'][['augmented_smi', item]].rename(columns={'augmented_smi': 'smi'})])\n",
    "concat_data=concat_data.dropna()\n",
    "\n",
    "# concat_data['augmented_smi']=concat_data['smi'].apply(augment_smiles)\n",
    "# concat_data=pd.concat([concat_data[['smi',item]],concat_data[['augmented_smi', item]].rename(columns={'augmented_smi': 'smi'})])\n",
    "# concat_data=concat_data.dropna()\n",
    "\n",
    "concat_data=concat_data.drop_duplicates()\n",
    "\n",
    "data['train']=Dataset.from_pandas(concat_data)\n",
    "data.save_to_disk('dataset_aug')\n",
    "data"
   ],
   "metadata": {
    "collapsed": false,
    "ExecuteTime": {
     "start_time": "2024-05-03T17:02:06.967210Z",
     "end_time": "2024-05-03T17:02:07.150210Z"
    }
   }
  }
 ],
 "metadata": {
  "kernelspec": {
   "display_name": "Python 3",
   "language": "python",
   "name": "python3"
  },
  "language_info": {
   "codemirror_mode": {
    "name": "ipython",
    "version": 2
   },
   "file_extension": ".py",
   "mimetype": "text/x-python",
   "name": "python",
   "nbconvert_exporter": "python",
   "pygments_lexer": "ipython2",
   "version": "2.7.6"
  }
 },
 "nbformat": 4,
 "nbformat_minor": 0
}
