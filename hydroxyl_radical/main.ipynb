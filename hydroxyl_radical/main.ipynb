{
 "cells": [
  {
   "cell_type": "code",
   "execution_count": 1,
   "outputs": [],
   "source": [
    "from datasets import load_dataset,load_from_disk\n",
    "# \\t is the tab character in Python\n",
    "dataset_dict = load_from_disk('dataset_aug')\n",
    "dataset_dict=dataset_dict.select_columns(['smi','logkOH•'])\n"
   ],
   "metadata": {
    "collapsed": false,
    "ExecuteTime": {
     "start_time": "2024-05-14T19:24:51.761250Z",
     "end_time": "2024-05-14T19:24:53.613883Z"
    }
   }
  },
  {
   "cell_type": "code",
   "execution_count": 2,
   "outputs": [
    {
     "data": {
      "text/plain": "'<|endoftext|>'"
     },
     "execution_count": 2,
     "metadata": {},
     "output_type": "execute_result"
    }
   ],
   "source": [
    "import torch\n",
    "from transformers import GPT2Tokenizer, GPT2Model, GPT2Config, Trainer, TrainingArguments,GPT2DoubleHeadsModel,GPT2PreTrainedModel,GPT2ForSequenceClassification\n",
    "from datasets import load_dataset\n",
    "\n",
    "# 定义标记器和模型配置\n",
    "tokenizer = GPT2Tokenizer.from_pretrained(r\"D:\\system\\桌面\\lcm-code\\tokenizers_lcm\\tokenizer_gpt_special.json\")\n",
    "tokenizer.pad_token = tokenizer.eos_token\n",
    "tokenizer.pad_token"
   ],
   "metadata": {
    "collapsed": false,
    "ExecuteTime": {
     "start_time": "2024-05-14T19:25:39.476140Z",
     "end_time": "2024-05-14T19:25:43.889649Z"
    }
   }
  },
  {
   "cell_type": "code",
   "execution_count": 3,
   "outputs": [],
   "source": [
    "from torch import nn\n",
    "from torch.nn.utils import prune\n",
    "\n",
    "class GPT2LinearOutput(nn.Module):\n",
    "    def __init__(self,n_block,drop,purn):\n",
    "        super(GPT2LinearOutput, self).__init__()\n",
    "        self.config=GPT2Config.from_pretrained('D:\\system\\桌面\\lcm-code\\pre_training\\chem_gpt100')\n",
    "        self.config.pad_token_id=tokenizer.pad_token_id\n",
    "        self.config.num_attention_heads=4\n",
    "        self.config.num_hidden_layers=n_block\n",
    "        self.config.hidden_size=512\n",
    "        self.gpt2 = GPT2Model(self.config)  #  使用预训练的GPT2模型\n",
    "        self.linear = nn.Linear(self.config.hidden_size, 1)  # 输出维度为1的线性层\n",
    "        for name, module in self.gpt2.named_modules():\n",
    "            if isinstance(module, (nn.Dropout, nn.Dropout2d, nn.Dropout3d)):\n",
    "                module.p = drop\n",
    "        for name, module in self.gpt2.named_modules():\n",
    "            if isinstance(module, torch.nn.Linear):\n",
    "                prune.l1_unstructured(module, name='weight', amount=purn)\n",
    "\n",
    "    def forward(self, input_ids, attention_mask):\n",
    "        outputs = self.gpt2(input_ids=input_ids,attention_mask=attention_mask)\n",
    "        last_hidden_states = outputs.last_hidden_state\n",
    "        linear_output = self.linear(last_hidden_states)  # 只使用最后一个位置的隐藏状态\n",
    "        return linear_output\n"
   ],
   "metadata": {
    "collapsed": false,
    "ExecuteTime": {
     "start_time": "2024-05-14T19:25:44.767650Z",
     "end_time": "2024-05-14T19:25:44.782648Z"
    }
   }
  },
  {
   "cell_type": "code",
   "execution_count": 4,
   "outputs": [
    {
     "data": {
      "text/plain": "Map:   0%|          | 0/2122 [00:00<?, ? examples/s]",
      "application/vnd.jupyter.widget-view+json": {
       "version_major": 2,
       "version_minor": 0,
       "model_id": "fb7aadb55337490dbabf30be466a35b7"
      }
     },
     "metadata": {},
     "output_type": "display_data"
    },
    {
     "data": {
      "text/plain": "Map:   0%|          | 0/138 [00:00<?, ? examples/s]",
      "application/vnd.jupyter.widget-view+json": {
       "version_major": 2,
       "version_minor": 0,
       "model_id": "d07374f7d5d742a29032997856702eb8"
      }
     },
     "metadata": {},
     "output_type": "display_data"
    },
    {
     "data": {
      "text/plain": "Map:   0%|          | 0/2122 [00:00<?, ? examples/s]",
      "application/vnd.jupyter.widget-view+json": {
       "version_major": 2,
       "version_minor": 0,
       "model_id": "639b1c6477cf4bacb89c081392543ec3"
      }
     },
     "metadata": {},
     "output_type": "display_data"
    },
    {
     "data": {
      "text/plain": "Map:   0%|          | 0/138 [00:00<?, ? examples/s]",
      "application/vnd.jupyter.widget-view+json": {
       "version_major": 2,
       "version_minor": 0,
       "model_id": "309eaa902d2b4161b37894be133609af"
      }
     },
     "metadata": {},
     "output_type": "display_data"
    },
    {
     "data": {
      "text/plain": "DatasetDict({\n    train: Dataset({\n        features: ['input_ids', 'attention_mask', 'logkOH•', 'length'],\n        num_rows: 2122\n    })\n    valid: Dataset({\n        features: ['input_ids', 'attention_mask', 'logkOH•', 'length'],\n        num_rows: 138\n    })\n    test: Dataset({\n        features: ['input_ids', 'attention_mask', 'logkOH•', 'length'],\n        num_rows: 138\n    })\n})"
     },
     "execution_count": 4,
     "metadata": {},
     "output_type": "execute_result"
    }
   ],
   "source": [
    "tokenized_dataset = dataset_dict.map(\n",
    "    lambda element: tokenizer(element['smi']),batched=True\n",
    ")\n",
    "def returnlength(example):\n",
    "    return  {'length':len(example['input_ids'])-1}\n",
    "\n",
    "tokenized_dataset=tokenized_dataset.map(returnlength)\n",
    "tokenized_dataset=tokenized_dataset.select_columns(['input_ids','attention_mask','logkOH•','length'])\n",
    "tokenized_dataset\n"
   ],
   "metadata": {
    "collapsed": false,
    "ExecuteTime": {
     "start_time": "2024-05-14T19:25:45.920651Z",
     "end_time": "2024-05-14T19:25:46.263649Z"
    }
   }
  },
  {
   "cell_type": "code",
   "execution_count": 8,
   "outputs": [],
   "source": [
    "import torch\n",
    "# from torch.utils.data import DataLoader, Dataset\n",
    "# model=GPT2LinearOutput()\n"
   ],
   "metadata": {
    "collapsed": false,
    "ExecuteTime": {
     "start_time": "2024-05-11T10:46:05.686740Z",
     "end_time": "2024-05-11T10:46:05.703534Z"
    }
   }
  },
  {
   "cell_type": "code",
   "execution_count": 9,
   "outputs": [],
   "source": [
    "from transformers import DataCollatorWithPadding\n",
    "from torch.utils.data import DataLoader, Dataset\n",
    "data_collator = DataCollatorWithPadding(tokenizer=tokenizer)\n",
    "tokenized_dataset.set_format(\"torch\")\n",
    "\n"
   ],
   "metadata": {
    "collapsed": false,
    "ExecuteTime": {
     "start_time": "2024-05-11T10:46:05.700535Z",
     "end_time": "2024-05-11T10:46:05.716644Z"
    }
   }
  },
  {
   "cell_type": "code",
   "execution_count": 10,
   "outputs": [],
   "source": [
    "from torch.optim import AdamW\n",
    "import torch.nn as nn\n",
    "from transformers import get_scheduler\n",
    "\n",
    "criterion = nn.MSELoss()\n",
    "train_dataloader = DataLoader(tokenized_dataset[\"train\"], batch_size=64, shuffle=True,collate_fn=data_collator)\n",
    "eval_dataloader = DataLoader(tokenized_dataset[\"valid\"], batch_size=69,collate_fn=data_collator)\n",
    "test_dataloader=DataLoader(tokenized_dataset[\"test\"], batch_size=69,collate_fn=data_collator)\n",
    "num_train_epochs = 200\n",
    "num_update_steps_per_epoch = len(train_dataloader)\n",
    "num_training_steps = num_train_epochs * num_update_steps_per_epoch"
   ],
   "metadata": {
    "collapsed": false,
    "ExecuteTime": {
     "start_time": "2024-05-11T10:46:05.718642Z",
     "end_time": "2024-05-11T10:46:05.761642Z"
    }
   }
  },
  {
   "cell_type": "code",
   "execution_count": 11,
   "outputs": [
    {
     "name": "stdout",
     "output_type": "stream",
     "text": [
      "最优参数配置: {'num_blocks': 8, 'dropout': 0.2031915206133889, 'purns': 0.13211929362573221, 'lr': 0.00030663468933292816} 0.4131312966346741\n"
     ]
    }
   ],
   "source": [
    "import pickle\n",
    "\n",
    "# 读取 pickle 文件\n",
    "with open('example-study.pkl', 'rb') as f:\n",
    "    study = pickle.load(f)\n",
    "\n",
    "# 现在你可以访问 study 对象中的信息，比如最优的超参数配置\n",
    "print(\"最优参数配置:\", study.best_params, study.best_value)\n"
   ],
   "metadata": {
    "collapsed": false,
    "ExecuteTime": {
     "start_time": "2024-05-11T10:46:05.733642Z",
     "end_time": "2024-05-11T10:46:05.984256Z"
    }
   }
  },
  {
   "cell_type": "code",
   "execution_count": 12,
   "outputs": [],
   "source": [
    "from accelerate import Accelerator\n",
    "\n",
    "accelerator = Accelerator()\n",
    "model =GPT2LinearOutput(8,0.2,0.13)\n",
    "# model.load_state_dict(torch.load('best_val0.model'))\n",
    "train_dataloader, eval_dataloader,test_dataloader,model = accelerator.prepare(\n",
    "    train_dataloader, eval_dataloader,test_dataloader,model\n",
    ")\n",
    "optimizer = AdamW(model.parameters(), lr=0.0003)\n",
    "lr_scheduler = get_scheduler(\n",
    "name=\"cosine\",\n",
    "optimizer=optimizer,\n",
    "num_warmup_steps=num_training_steps//4,\n",
    "num_training_steps=num_training_steps)"
   ],
   "metadata": {
    "collapsed": false,
    "ExecuteTime": {
     "start_time": "2024-05-11T10:46:05.985258Z",
     "end_time": "2024-05-11T10:46:06.321260Z"
    }
   }
  },
  {
   "cell_type": "code",
   "execution_count": 13,
   "outputs": [],
   "source": [
    "import torch\n",
    "def caculate(loader,model):\n",
    "    losses=[]\n",
    "    model.eval()\n",
    "    for batch in loader:\n",
    "        with torch.no_grad():\n",
    "            labels = batch['logkOH•']\n",
    "            batch['input_ids']=batch['input_ids'].to(torch.int64)\n",
    "            logits = model(batch['input_ids'],batch['attention_mask']).squeeze()[torch.arange(0,len(batch['input_ids'])),batch['length']]\n",
    "            loss = criterion(logits, labels)\n",
    "            losses.append(loss.unsqueeze(dim=0))\n",
    "    torch.cuda.empty_cache()\n",
    "    return torch.sqrt(torch.mean(torch.cat(losses,dim=0))).cpu().numpy()"
   ],
   "metadata": {
    "collapsed": false,
    "ExecuteTime": {
     "start_time": "2024-05-11T10:46:06.322260Z",
     "end_time": "2024-05-11T10:46:06.333260Z"
    }
   }
  },
  {
   "cell_type": "code",
   "execution_count": 14,
   "outputs": [],
   "source": [
    "import numpy as np\n",
    "from sklearn.metrics import r2_score\n",
    "def caculater2(loader,model):\n",
    "    y_true=[]\n",
    "    y_pre=[]\n",
    "    model.eval()\n",
    "    for batch in loader:\n",
    "        with torch.no_grad():\n",
    "            labels = batch['logkOH•']\n",
    "            batch['input_ids']=batch['input_ids'].to(torch.int64)\n",
    "            logits = model(batch['input_ids'],batch['attention_mask']).squeeze()[torch.arange(0,len(batch['input_ids'])),batch['length']]\n",
    "            y_true.extend(labels.cpu().numpy())\n",
    "            y_pre.extend(logits.cpu().numpy())\n",
    "    return r2_score(y_true,y_pre)"
   ],
   "metadata": {
    "collapsed": false,
    "ExecuteTime": {
     "start_time": "2024-05-11T10:46:06.335259Z",
     "end_time": "2024-05-11T10:46:06.352261Z"
    }
   }
  },
  {
   "cell_type": "code",
   "execution_count": null,
   "outputs": [
    {
     "data": {
      "text/plain": "  0%|          | 0/200 [00:00<?, ?it/s]",
      "application/vnd.jupyter.widget-view+json": {
       "version_major": 2,
       "version_minor": 0,
       "model_id": "364ddd9fac224ac4b56b1ea5b87c8402"
      }
     },
     "metadata": {},
     "output_type": "display_data"
    },
    {
     "name": "stdout",
     "output_type": "stream",
     "text": [
      "train_loss1.2702207565307617 eval_loss:1.2813682556152344 trainr2 -3.9139388631010945 evalr2 -3.188614633000592\n"
     ]
    }
   ],
   "source": [
    "\n",
    "from torch.cuda.amp import autocast\n",
    "from matplotlib import pyplot as plt\n",
    "from tqdm.notebook import tqdm\n",
    "import optuna\n",
    "\n",
    "plt.style.use('ggplot')\n",
    "plt.rcParams['font.family'] = 'Times New Roman'\n",
    "\n",
    "train_losses=[]\n",
    "eval_losses=[]\n",
    "eval_r2s=[]\n",
    "train_r2s=[]\n",
    "\n",
    "completed_steps = 1\n",
    "\n",
    "best_losses=[]\n",
    "best_models=[]\n",
    "\n",
    "best_val = float(\"inf\")\n",
    "scaler = torch.cuda.amp.GradScaler()\n",
    "for epoch in tqdm(range(num_train_epochs),total=num_train_epochs):\n",
    "    model.train()\n",
    "    for step,batch in enumerate(train_dataloader):\n",
    "        with autocast():\n",
    "\n",
    "            labels = batch['logkOH•']\n",
    "            batch['input_ids']=batch['input_ids'].to(torch.int64)\n",
    "\n",
    "            logits = model(batch['input_ids'],batch['attention_mask']).squeeze()[torch.arange(0,len(batch['input_ids'])),batch['length']]\n",
    "\n",
    "            loss = criterion(logits, labels)\n",
    "\n",
    "            # loss=loss/gradient_accumulation_steps\n",
    "\n",
    "            scaler.scale(loss).backward()\n",
    "\n",
    "            # accelerator.clip_grad_norm_(model.parameters(), 1.0)\n",
    "            scaler.step(optimizer)\n",
    "            lr_scheduler.step()\n",
    "            optimizer.zero_grad()\n",
    "            completed_steps += 1\n",
    "            scaler.update()\n",
    "            torch.cuda.empty_cache()\n",
    "\n",
    "        torch.cuda.empty_cache()\n",
    "\n",
    "\n",
    "    eval_loss=caculate(eval_dataloader,model)\n",
    "    train_loss=caculate(train_dataloader,model)\n",
    "\n",
    "\n",
    "    eval_losses.append(eval_loss)\n",
    "    train_losses.append(train_loss)\n",
    "\n",
    "\n",
    "    eval_r2=caculater2(eval_dataloader,model)\n",
    "    train_r2=caculater2(train_dataloader,model)\n",
    "    eval_r2s.append(eval_r2)\n",
    "    train_r2s.append(train_r2)\n",
    "\n",
    "    tqdm.write(f'train_loss{train_loss} eval_loss:{eval_loss} trainr2 {train_r2} evalr2 {eval_r2}')\n",
    "\n",
    "    torch.cuda.empty_cache()\n",
    "\n",
    "\n",
    "    if len(best_models) < 3 or eval_loss < max(best_losses):\n",
    "        best_models.append(model.state_dict())\n",
    "        best_losses.append(eval_loss)\n",
    "\n",
    "    # 如果保存的模型数量超过了5个，则删除验证集损失最大的模型\n",
    "    if len(best_models) > 3:\n",
    "        max_loss_idx = best_losses.index(max(best_losses))\n",
    "        del best_models[max_loss_idx]\n",
    "        del best_losses[max_loss_idx]\n",
    "\n",
    "    if eval_loss < best_val:\n",
    "        torch.save(model.state_dict(), 'best_test.model')\n",
    "        best_val = eval_loss\n",
    "\n",
    "\n",
    "fig, ax1 = plt.subplots(figsize=(10, 6))\n",
    "# 绘制 accuracy\n",
    "ax1.plot(range(num_train_epochs), train_r2s, label='Train r2', marker='o', color='blue', linestyle='--')\n",
    "ax1.plot(range(num_train_epochs), eval_r2s, label='Eval r2', marker='x',color='blue', linestyle='--')\n",
    "ax1.fill_between(range(num_train_epochs), train_r2s, eval_r2s, color='lightblue', alpha=0.1, zorder=2)\n",
    "ax1.set_xlabel('Epochs', fontsize=10, fontweight='bold')\n",
    "ax1.set_ylabel('R2', fontsize=10, fontweight='bold')\n",
    "ax1.set_title('Train and Eval Accuracy Over Epochs', fontsize=16, fontweight='bold')\n",
    "ax1.legend(loc='upper left', fontsize=10)\n",
    "\n",
    "# 创建第二个 y 轴并绘制 loss\n",
    "ax2 = ax1.twinx()\n",
    "ax2.plot(range(num_train_epochs), train_losses, label='Train Loss', color='red', linestyle='--', marker='o')\n",
    "ax2.plot(range(num_train_epochs), eval_losses, label='Eval Loss', color='red', linestyle='--', marker='x')\n",
    "ax2.fill_between(range(num_train_epochs), train_losses, eval_losses, alpha=0.1,color='lightgreen')\n",
    "ax2.set_ylabel('Loss', fontsize=10, fontweight='bold')\n",
    "ax2.legend(loc='lower right', fontsize=10)\n",
    "\n",
    "plt.grid(True)\n",
    "plt.tight_layout()\n",
    "plt.gcf().set_dpi(300)\n",
    "plt.show()"
   ],
   "metadata": {
    "collapsed": false,
    "ExecuteTime": {
     "start_time": "2024-05-10T21:05:20.764836Z",
     "end_time": "2024-05-10T21:34:50.813950Z"
    }
   }
  },
  {
   "cell_type": "code",
   "execution_count": null,
   "outputs": [],
   "source": [
    "model.load_state_dict(torch.load('best_val.model'))\n",
    "model=accelerator.prepare(model)\n",
    "caculater2(test_dataloader,model)"
   ],
   "metadata": {
    "collapsed": false,
    "ExecuteTime": {
     "start_time": "2024-05-10T21:39:13.677806Z",
     "end_time": "2024-05-10T21:39:13.787313Z"
    }
   }
  },
  {
   "cell_type": "code",
   "execution_count": null,
   "outputs": [],
   "source": [
    "torch.save(best_models[1],'1.model')"
   ],
   "metadata": {
    "collapsed": false,
    "ExecuteTime": {
     "start_time": "2024-05-10T21:38:50.908218Z",
     "end_time": "2024-05-10T21:38:51.033269Z"
    }
   }
  }
 ],
 "metadata": {
  "kernelspec": {
   "display_name": "Python 3",
   "language": "python",
   "name": "python3"
  },
  "language_info": {
   "codemirror_mode": {
    "name": "ipython",
    "version": 2
   },
   "file_extension": ".py",
   "mimetype": "text/x-python",
   "name": "python",
   "nbconvert_exporter": "python",
   "pygments_lexer": "ipython2",
   "version": "2.7.6"
  }
 },
 "nbformat": 4,
 "nbformat_minor": 0
}
