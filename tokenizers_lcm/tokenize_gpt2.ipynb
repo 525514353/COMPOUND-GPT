{
 "cells": [
  {
   "cell_type": "code",
   "execution_count": 1,
   "metadata": {
    "collapsed": true,
    "ExecuteTime": {
     "start_time": "2024-05-11T10:53:07.556332Z",
     "end_time": "2024-05-11T10:53:09.532235Z"
    }
   },
   "outputs": [
    {
     "data": {
      "text/plain": "'CC(=O)OC(CC(=O)O)C[N+](C)(C)C'"
     },
     "execution_count": 1,
     "metadata": {},
     "output_type": "execute_result"
    }
   ],
   "source": [
    "from datasets import load_dataset\n",
    "import pandas as pd\n",
    "\n",
    "# \\t is the tab character in Python\n",
    "dataset = load_dataset(\"csv\", data_files='compound_properties.csv')\n",
    "dataset=dataset['train']\n",
    "\n",
    "\n",
    "# def addsplit(example):\n",
    "#     return {'isosmiles':[' '.join(i) for i in example['isosmiles']]}\n",
    "# dataset=dataset.map(addsplit,remove_columns=dataset.column_names,batched=True)\n",
    "dataset['canonicalsmiles'][0]"
   ]
  },
  {
   "cell_type": "code",
   "execution_count": 2,
   "outputs": [
    {
     "data": {
      "text/plain": "'CCC(=O)C(=O)O'"
     },
     "execution_count": 2,
     "metadata": {},
     "output_type": "execute_result"
    }
   ],
   "source": [
    "dataset['canonicalsmiles'][20]"
   ],
   "metadata": {
    "collapsed": false,
    "ExecuteTime": {
     "start_time": "2024-05-11T10:53:10.662691Z",
     "end_time": "2024-05-11T10:53:10.830708Z"
    }
   }
  },
  {
   "cell_type": "code",
   "execution_count": 3,
   "outputs": [],
   "source": [
    "def get_training_corpus():\n",
    "    for i in range(0, len(dataset), 1000):\n",
    "        yield dataset[i : i + 1000][\"canonicalsmiles\"]\n"
   ],
   "metadata": {
    "collapsed": false,
    "ExecuteTime": {
     "start_time": "2024-05-11T10:53:12.104699Z",
     "end_time": "2024-05-11T10:53:12.117698Z"
    }
   }
  },
  {
   "cell_type": "code",
   "execution_count": 4,
   "outputs": [
    {
     "data": {
      "text/plain": "[('CC', (0, 2)), ('ĠCC', (2, 5)), ('ĠCC', (5, 8))]"
     },
     "execution_count": 4,
     "metadata": {},
     "output_type": "execute_result"
    }
   ],
   "source": [
    "from tokenizers import Tokenizer,models,pre_tokenizers,trainers,decoders,processors\n",
    "tokenizer = Tokenizer(models.BPE())\n",
    "tokenizer.pre_tokenizer = pre_tokenizers.ByteLevel(add_prefix_space=False)\n",
    "tokenizer.pre_tokenizer.pre_tokenize_str(\"CC CC CC\")\n"
   ],
   "metadata": {
    "collapsed": false,
    "ExecuteTime": {
     "start_time": "2024-05-11T10:53:12.896891Z",
     "end_time": "2024-05-11T10:53:12.921329Z"
    }
   }
  },
  {
   "cell_type": "code",
   "execution_count": 5,
   "outputs": [],
   "source": [
    "trainer = trainers.BpeTrainer(vocab_size=120,special_tokens=['S(=O)','S(=O)(=O)','S(=S)','CS','CO','=O','(=O)','C=C','CC','OH','CHO','C=O','C=O(O)','COOH','C=N','NHC(O)','NO','NCN','NN','SS','(CN)','Cl','Br'])\n",
    "tokenizer.train_from_iterator(get_training_corpus(), trainer=trainer)"
   ],
   "metadata": {
    "collapsed": false,
    "ExecuteTime": {
     "start_time": "2024-05-11T10:53:13.855232Z",
     "end_time": "2024-05-11T10:53:18.563782Z"
    }
   }
  },
  {
   "cell_type": "code",
   "execution_count": 8,
   "outputs": [
    {
     "name": "stdout",
     "output_type": "stream",
     "text": [
      "['CC', '(', 'C', ')', 'CC', 'CC']\n",
      "[8, 25, 43, 26, 8, 8]\n"
     ]
    },
    {
     "data": {
      "text/plain": "[('CC', (0, 2)), ('(', (2, 3)), ('C', (3, 4)), (')', (4, 5)), ('CCCC', (5, 9))]"
     },
     "execution_count": 8,
     "metadata": {},
     "output_type": "execute_result"
    }
   ],
   "source": [
    "encoding = tokenizer.encode(\"CC(C)CCCC\")\n",
    "print(encoding.tokens)\n",
    "print(encoding.ids)\n",
    "tokenizer.pre_tokenizer.pre_tokenize_str(\"CC(C)CCCC\")\n"
   ],
   "metadata": {
    "collapsed": false,
    "ExecuteTime": {
     "start_time": "2024-05-11T10:53:23.801187Z",
     "end_time": "2024-05-11T10:53:23.807185Z"
    }
   }
  },
  {
   "cell_type": "code",
   "execution_count": 0,
   "outputs": [],
   "source": [
    "# tokenizer.decoder = decoders.ByteLevel()"
   ],
   "metadata": {
    "collapsed": false,
    "ExecuteTime": {
     "start_time": "2024-05-11T10:40:18.441802Z",
     "end_time": "2024-05-11T10:40:18.473923Z"
    }
   }
  },
  {
   "cell_type": "code",
   "execution_count": 9,
   "outputs": [
    {
     "data": {
      "text/plain": "'( C )'"
     },
     "execution_count": 9,
     "metadata": {},
     "output_type": "execute_result"
    }
   ],
   "source": [
    "tokenizer.decode(encoding.ids)"
   ],
   "metadata": {
    "collapsed": false,
    "ExecuteTime": {
     "start_time": "2024-05-11T10:53:25.597238Z",
     "end_time": "2024-05-11T10:53:25.606235Z"
    }
   }
  },
  {
   "cell_type": "code",
   "execution_count": 13,
   "outputs": [],
   "source": [
    "from transformers import PreTrainedTokenizerFast\n",
    "\n",
    "# wrapped_tokenizer = PreTrainedTokenizerFast(\n",
    "#     tokenizer_object=tokenizer,\n",
    "#     bos_token=\"<|endoftext|>\",\n",
    "#     eos_token=\"<|endoftext|>\",\n",
    "# )\n",
    "from transformers import GPT2TokenizerFast\n",
    "\n",
    "wrapped_tokenizer = GPT2TokenizerFast(tokenizer_object=tokenizer)"
   ],
   "metadata": {
    "collapsed": false,
    "ExecuteTime": {
     "start_time": "2024-05-11T10:41:07.550890Z",
     "end_time": "2024-05-11T10:41:09.047553Z"
    }
   }
  },
  {
   "cell_type": "code",
   "execution_count": 14,
   "outputs": [
    {
     "data": {
      "text/plain": "('tokenizer_gpt_special.json\\\\tokenizer_config.json',\n 'tokenizer_gpt_special.json\\\\special_tokens_map.json',\n 'tokenizer_gpt_special.json\\\\vocab.json',\n 'tokenizer_gpt_special.json\\\\merges.txt',\n 'tokenizer_gpt_special.json\\\\added_tokens.json',\n 'tokenizer_gpt_special.json\\\\tokenizer.json')"
     },
     "execution_count": 14,
     "metadata": {},
     "output_type": "execute_result"
    }
   ],
   "source": [
    "wrapped_tokenizer.save_pretrained('tokenizer_gpt_special.json')"
   ],
   "metadata": {
    "collapsed": false,
    "ExecuteTime": {
     "start_time": "2024-05-11T10:41:09.959292Z",
     "end_time": "2024-05-11T10:41:09.975293Z"
    }
   }
  },
  {
   "cell_type": "code",
   "execution_count": 41,
   "outputs": [],
   "source": [],
   "metadata": {
    "collapsed": false,
    "ExecuteTime": {
     "start_time": "2024-03-12T11:17:09.858597Z",
     "end_time": "2024-03-12T11:17:09.903597Z"
    }
   }
  }
 ],
 "metadata": {
  "kernelspec": {
   "display_name": "Python 3",
   "language": "python",
   "name": "python3"
  },
  "language_info": {
   "codemirror_mode": {
    "name": "ipython",
    "version": 2
   },
   "file_extension": ".py",
   "mimetype": "text/x-python",
   "name": "python",
   "nbconvert_exporter": "python",
   "pygments_lexer": "ipython2",
   "version": "2.7.6"
  }
 },
 "nbformat": 4,
 "nbformat_minor": 0
}
