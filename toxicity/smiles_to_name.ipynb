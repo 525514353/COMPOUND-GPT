{
 "cells": [
  {
   "cell_type": "code",
   "execution_count": 4,
   "outputs": [
    {
     "name": "stdout",
     "output_type": "stream",
     "text": [
      "化合物名称: 3-ethoxyaniline\n"
     ]
    }
   ],
   "source": [
    "import pubchempy as pcp\n",
    "import time\n",
    "\n",
    "def get_compound_name(smiles, timeout=10):\n",
    "    start_time = time.time()\n",
    "    while time.time() - start_time < timeout:\n",
    "        try:\n",
    "            compounds = pcp.get_compounds(smiles, 'smiles', timeout=timeout)\n",
    "            if compounds:\n",
    "                return compounds[0].iupac_name\n",
    "        except Exception as e:\n",
    "            print(f\"An error occurred: {e}\")\n",
    "            continue\n",
    "    return \"未找到对应的化合物名称\"\n",
    "\n",
    "\n",
    "# 示例SMILES\n",
    "smiles_string = 'CCOc1cccc(c1)N'\n",
    "compound_name = get_compound_name(smiles_string)\n",
    "print(f\"化合物名称: {compound_name}\")\n",
    "\n",
    "# from datasets import load_from_disk\n",
    "#\n",
    "# data = load_from_disk('test_ad')\n",
    "# dataset = data.map(lambda x: {'names': get_compound_name(x['smiles'])})"
   ],
   "metadata": {
    "collapsed": false,
    "ExecuteTime": {
     "start_time": "2024-05-24T17:06:41.588544Z",
     "end_time": "2024-05-24T17:06:44.775754Z"
    }
   }
  },
  {
   "cell_type": "code",
   "execution_count": 2,
   "outputs": [
    {
     "data": {
      "text/plain": "Dataset({\n    features: ['smiles', 'ids', 'Ames Mutagenicity', 'names'],\n    num_rows: 573\n})"
     },
     "execution_count": 2,
     "metadata": {},
     "output_type": "execute_result"
    }
   ],
   "source": [
    "dataset"
   ],
   "metadata": {
    "collapsed": false,
    "ExecuteTime": {
     "start_time": "2024-05-24T14:05:46.994551Z",
     "end_time": "2024-05-24T14:05:47.009548Z"
    }
   }
  },
  {
   "cell_type": "code",
   "execution_count": 3,
   "outputs": [
    {
     "data": {
      "text/plain": "Saving the dataset (0/1 shards):   0%|          | 0/573 [00:00<?, ? examples/s]",
      "application/vnd.jupyter.widget-view+json": {
       "version_major": 2,
       "version_minor": 0,
       "model_id": "821e73423e6149139c975df46c520740"
      }
     },
     "metadata": {},
     "output_type": "display_data"
    }
   ],
   "source": [
    "dataset.save_to_disk('test_name')"
   ],
   "metadata": {
    "collapsed": false,
    "ExecuteTime": {
     "start_time": "2024-05-24T14:05:52.640421Z",
     "end_time": "2024-05-24T14:05:52.671423Z"
    }
   }
  }
 ],
 "metadata": {
  "kernelspec": {
   "display_name": "Python 3",
   "language": "python",
   "name": "python3"
  },
  "language_info": {
   "codemirror_mode": {
    "name": "ipython",
    "version": 2
   },
   "file_extension": ".py",
   "mimetype": "text/x-python",
   "name": "python",
   "nbconvert_exporter": "python",
   "pygments_lexer": "ipython2",
   "version": "2.7.6"
  }
 },
 "nbformat": 4,
 "nbformat_minor": 0
}
