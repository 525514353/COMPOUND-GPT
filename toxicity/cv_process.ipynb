{
 "cells": [
  {
   "cell_type": "code",
   "execution_count": 1,
   "metadata": {
    "collapsed": true,
    "ExecuteTime": {
     "start_time": "2024-04-26T16:34:08.380484Z",
     "end_time": "2024-04-26T16:34:09.217484Z"
    }
   },
   "outputs": [
    {
     "data": {
      "text/plain": "                                                 smiles          ids  \\\n0     O=C1c2ccccc2C(=O)c3c1ccc4c3[nH]c5c6C(=O)c7cccc...    2475-33-4   \n1                                 NNC(=O)CNC(=O)\\C=N\\#N     820-75-7   \n2                              O=C1NC(=O)\\C(=N/#N)\\C=N1    2435-76-9   \n3                                  NC(=O)CNC(=O)\\C=N\\#N     817-99-2   \n4                CCCCN(CC(O)C1=C\\C(=N/#N)\\C(=O)C=C1)N=O  116539-70-9   \n...                                                 ...          ...   \n6507  COC1COC(COCC2COC(OC)C(OS(=O)(=O)O)C2OS(=O)(=O)...   37319-17-8   \n6508                      OC(Cc1cn(N=O)c2ccccc12)C(=O)O  117333-21-8   \n6509                           COC(=O)Nc1nc2ccccc2[nH]1   10605-21-7   \n6510                      ClCc1cccc2c3cccc4cccc(c12)c34  103393-71-1   \n6511                                       CCCN(CCC)N=O     621-64-7   \n\n      Ames Mutagenicity  \n0                     0  \n1                     1  \n2                     1  \n3                     1  \n4                     1  \n...                 ...  \n6507                  0  \n6508                  1  \n6509                  1  \n6510                  1  \n6511                  1  \n\n[6512 rows x 3 columns]",
      "text/html": "<div>\n<style scoped>\n    .dataframe tbody tr th:only-of-type {\n        vertical-align: middle;\n    }\n\n    .dataframe tbody tr th {\n        vertical-align: top;\n    }\n\n    .dataframe thead th {\n        text-align: right;\n    }\n</style>\n<table border=\"1\" class=\"dataframe\">\n  <thead>\n    <tr style=\"text-align: right;\">\n      <th></th>\n      <th>smiles</th>\n      <th>ids</th>\n      <th>Ames Mutagenicity</th>\n    </tr>\n  </thead>\n  <tbody>\n    <tr>\n      <th>0</th>\n      <td>O=C1c2ccccc2C(=O)c3c1ccc4c3[nH]c5c6C(=O)c7cccc...</td>\n      <td>2475-33-4</td>\n      <td>0</td>\n    </tr>\n    <tr>\n      <th>1</th>\n      <td>NNC(=O)CNC(=O)\\C=N\\#N</td>\n      <td>820-75-7</td>\n      <td>1</td>\n    </tr>\n    <tr>\n      <th>2</th>\n      <td>O=C1NC(=O)\\C(=N/#N)\\C=N1</td>\n      <td>2435-76-9</td>\n      <td>1</td>\n    </tr>\n    <tr>\n      <th>3</th>\n      <td>NC(=O)CNC(=O)\\C=N\\#N</td>\n      <td>817-99-2</td>\n      <td>1</td>\n    </tr>\n    <tr>\n      <th>4</th>\n      <td>CCCCN(CC(O)C1=C\\C(=N/#N)\\C(=O)C=C1)N=O</td>\n      <td>116539-70-9</td>\n      <td>1</td>\n    </tr>\n    <tr>\n      <th>...</th>\n      <td>...</td>\n      <td>...</td>\n      <td>...</td>\n    </tr>\n    <tr>\n      <th>6507</th>\n      <td>COC1COC(COCC2COC(OC)C(OS(=O)(=O)O)C2OS(=O)(=O)...</td>\n      <td>37319-17-8</td>\n      <td>0</td>\n    </tr>\n    <tr>\n      <th>6508</th>\n      <td>OC(Cc1cn(N=O)c2ccccc12)C(=O)O</td>\n      <td>117333-21-8</td>\n      <td>1</td>\n    </tr>\n    <tr>\n      <th>6509</th>\n      <td>COC(=O)Nc1nc2ccccc2[nH]1</td>\n      <td>10605-21-7</td>\n      <td>1</td>\n    </tr>\n    <tr>\n      <th>6510</th>\n      <td>ClCc1cccc2c3cccc4cccc(c12)c34</td>\n      <td>103393-71-1</td>\n      <td>1</td>\n    </tr>\n    <tr>\n      <th>6511</th>\n      <td>CCCN(CCC)N=O</td>\n      <td>621-64-7</td>\n      <td>1</td>\n    </tr>\n  </tbody>\n</table>\n<p>6512 rows × 3 columns</p>\n</div>"
     },
     "execution_count": 1,
     "metadata": {},
     "output_type": "execute_result"
    }
   ],
   "source": [
    "import numpy as np\n",
    "from datasets import Dataset,DatasetDict,load_from_disk\n",
    "import pandas as pd\n",
    "\n",
    "\n",
    "item='Ames Mutagenicity'\n",
    "data=pd.read_csv('smiles_cas_N6512.csv',delimiter=' \t',header=None,engine='python')\n",
    "data.columns=['smiles','ids',item]\n",
    "\n",
    "data"
   ]
  },
  {
   "cell_type": "code",
   "execution_count": 2,
   "outputs": [
    {
     "data": {
      "text/plain": "Saving the dataset (0/1 shards):   0%|          | 0/652 [00:00<?, ? examples/s]",
      "application/vnd.jupyter.widget-view+json": {
       "version_major": 2,
       "version_minor": 0,
       "model_id": "c690f0882e0e478a8e13a16471d264ef"
      }
     },
     "metadata": {},
     "output_type": "display_data"
    }
   ],
   "source": [
    "\n",
    "dataset=Dataset.from_pandas(data)\n",
    "\n",
    "data_dict=dataset.train_test_split(test_size=0.1)\n",
    "\n",
    "data_dict['test'].save_to_disk('test')"
   ],
   "metadata": {
    "collapsed": false,
    "ExecuteTime": {
     "start_time": "2024-04-26T16:34:11.181844Z",
     "end_time": "2024-04-26T16:34:11.228844Z"
    }
   }
  },
  {
   "cell_type": "code",
   "execution_count": 3,
   "outputs": [],
   "source": [
    "\n",
    "from sklearn.model_selection import KFold\n",
    "kf = KFold(n_splits=10)\n",
    "# 创建空列表来存储每个分割的训练和验证数据集\n",
    "train_datasets = []\n",
    "valid_datasets = []\n",
    "\n",
    "# 循环遍历每个分割\n",
    "for train_index, valid_index in kf.split(data_dict['train']):\n",
    "    # 从原始数据集中获取训练和验证数据集\n",
    "    train_data = data_dict['train'].select(train_index)\n",
    "    valid_data = data_dict['train'].select(valid_index)\n",
    "\n",
    "    # 将数据集添加到列表中\n",
    "    train_datasets.append(train_data)\n",
    "    valid_datasets.append(valid_data)"
   ],
   "metadata": {
    "collapsed": false,
    "ExecuteTime": {
     "start_time": "2024-04-26T16:34:18.994153Z",
     "end_time": "2024-04-26T16:34:19.545153Z"
    }
   }
  },
  {
   "cell_type": "code",
   "execution_count": 4,
   "outputs": [
    {
     "data": {
      "text/plain": "Saving the dataset (0/1 shards):   0%|          | 0/5274 [00:00<?, ? examples/s]",
      "application/vnd.jupyter.widget-view+json": {
       "version_major": 2,
       "version_minor": 0,
       "model_id": "798528f14d2a4340bba6dbbe5d929722"
      }
     },
     "metadata": {},
     "output_type": "display_data"
    },
    {
     "data": {
      "text/plain": "Saving the dataset (0/1 shards):   0%|          | 0/586 [00:00<?, ? examples/s]",
      "application/vnd.jupyter.widget-view+json": {
       "version_major": 2,
       "version_minor": 0,
       "model_id": "12ae2c1de6ba4c749220981db5ed7a9c"
      }
     },
     "metadata": {},
     "output_type": "display_data"
    },
    {
     "data": {
      "text/plain": "Saving the dataset (0/1 shards):   0%|          | 0/5274 [00:00<?, ? examples/s]",
      "application/vnd.jupyter.widget-view+json": {
       "version_major": 2,
       "version_minor": 0,
       "model_id": "2257c2e87cb14873afa55d1a28d2f658"
      }
     },
     "metadata": {},
     "output_type": "display_data"
    },
    {
     "data": {
      "text/plain": "Saving the dataset (0/1 shards):   0%|          | 0/586 [00:00<?, ? examples/s]",
      "application/vnd.jupyter.widget-view+json": {
       "version_major": 2,
       "version_minor": 0,
       "model_id": "5954267508ec45cda35107a2926e778c"
      }
     },
     "metadata": {},
     "output_type": "display_data"
    },
    {
     "data": {
      "text/plain": "Saving the dataset (0/1 shards):   0%|          | 0/5274 [00:00<?, ? examples/s]",
      "application/vnd.jupyter.widget-view+json": {
       "version_major": 2,
       "version_minor": 0,
       "model_id": "431559986f584f1d9364e8c918d0f755"
      }
     },
     "metadata": {},
     "output_type": "display_data"
    },
    {
     "data": {
      "text/plain": "Saving the dataset (0/1 shards):   0%|          | 0/586 [00:00<?, ? examples/s]",
      "application/vnd.jupyter.widget-view+json": {
       "version_major": 2,
       "version_minor": 0,
       "model_id": "cf36480c56fe4219bfaa84073d90c2e3"
      }
     },
     "metadata": {},
     "output_type": "display_data"
    },
    {
     "data": {
      "text/plain": "Saving the dataset (0/1 shards):   0%|          | 0/5274 [00:00<?, ? examples/s]",
      "application/vnd.jupyter.widget-view+json": {
       "version_major": 2,
       "version_minor": 0,
       "model_id": "0c719539e35d4c398d4f0a4d3d8f7c7a"
      }
     },
     "metadata": {},
     "output_type": "display_data"
    },
    {
     "data": {
      "text/plain": "Saving the dataset (0/1 shards):   0%|          | 0/586 [00:00<?, ? examples/s]",
      "application/vnd.jupyter.widget-view+json": {
       "version_major": 2,
       "version_minor": 0,
       "model_id": "53e6014e02cb41f3969615dbc0d535d5"
      }
     },
     "metadata": {},
     "output_type": "display_data"
    },
    {
     "data": {
      "text/plain": "Saving the dataset (0/1 shards):   0%|          | 0/5274 [00:00<?, ? examples/s]",
      "application/vnd.jupyter.widget-view+json": {
       "version_major": 2,
       "version_minor": 0,
       "model_id": "a0aabefea7e64078a3010fb01fea890b"
      }
     },
     "metadata": {},
     "output_type": "display_data"
    },
    {
     "data": {
      "text/plain": "Saving the dataset (0/1 shards):   0%|          | 0/586 [00:00<?, ? examples/s]",
      "application/vnd.jupyter.widget-view+json": {
       "version_major": 2,
       "version_minor": 0,
       "model_id": "3ce886c2c3a74ab69ba556c85f20551e"
      }
     },
     "metadata": {},
     "output_type": "display_data"
    },
    {
     "data": {
      "text/plain": "Saving the dataset (0/1 shards):   0%|          | 0/5274 [00:00<?, ? examples/s]",
      "application/vnd.jupyter.widget-view+json": {
       "version_major": 2,
       "version_minor": 0,
       "model_id": "c7b9dab21fbd4490984a0fe3a6c1a0ee"
      }
     },
     "metadata": {},
     "output_type": "display_data"
    },
    {
     "data": {
      "text/plain": "Saving the dataset (0/1 shards):   0%|          | 0/586 [00:00<?, ? examples/s]",
      "application/vnd.jupyter.widget-view+json": {
       "version_major": 2,
       "version_minor": 0,
       "model_id": "b205fa3f7c244c2e8c84539692473a35"
      }
     },
     "metadata": {},
     "output_type": "display_data"
    },
    {
     "data": {
      "text/plain": "Saving the dataset (0/1 shards):   0%|          | 0/5274 [00:00<?, ? examples/s]",
      "application/vnd.jupyter.widget-view+json": {
       "version_major": 2,
       "version_minor": 0,
       "model_id": "d15b1202bc0545a6840d9cbc2e4a6456"
      }
     },
     "metadata": {},
     "output_type": "display_data"
    },
    {
     "data": {
      "text/plain": "Saving the dataset (0/1 shards):   0%|          | 0/586 [00:00<?, ? examples/s]",
      "application/vnd.jupyter.widget-view+json": {
       "version_major": 2,
       "version_minor": 0,
       "model_id": "0f60883ca1b74ba49bee6bf7553a6dd3"
      }
     },
     "metadata": {},
     "output_type": "display_data"
    },
    {
     "data": {
      "text/plain": "Saving the dataset (0/1 shards):   0%|          | 0/5274 [00:00<?, ? examples/s]",
      "application/vnd.jupyter.widget-view+json": {
       "version_major": 2,
       "version_minor": 0,
       "model_id": "08d4810f76fa4cf595f37a74587e6e92"
      }
     },
     "metadata": {},
     "output_type": "display_data"
    },
    {
     "data": {
      "text/plain": "Saving the dataset (0/1 shards):   0%|          | 0/586 [00:00<?, ? examples/s]",
      "application/vnd.jupyter.widget-view+json": {
       "version_major": 2,
       "version_minor": 0,
       "model_id": "07cde73f93834f91afc64ffd008c0651"
      }
     },
     "metadata": {},
     "output_type": "display_data"
    },
    {
     "data": {
      "text/plain": "Saving the dataset (0/1 shards):   0%|          | 0/5274 [00:00<?, ? examples/s]",
      "application/vnd.jupyter.widget-view+json": {
       "version_major": 2,
       "version_minor": 0,
       "model_id": "b863e0ca41ef48dcbbb219fa44e33fc5"
      }
     },
     "metadata": {},
     "output_type": "display_data"
    },
    {
     "data": {
      "text/plain": "Saving the dataset (0/1 shards):   0%|          | 0/586 [00:00<?, ? examples/s]",
      "application/vnd.jupyter.widget-view+json": {
       "version_major": 2,
       "version_minor": 0,
       "model_id": "da2c3b3790574bb8813521d3f62290dc"
      }
     },
     "metadata": {},
     "output_type": "display_data"
    },
    {
     "data": {
      "text/plain": "Saving the dataset (0/1 shards):   0%|          | 0/5274 [00:00<?, ? examples/s]",
      "application/vnd.jupyter.widget-view+json": {
       "version_major": 2,
       "version_minor": 0,
       "model_id": "72efedadcf0644b99679f9c3787fb441"
      }
     },
     "metadata": {},
     "output_type": "display_data"
    },
    {
     "data": {
      "text/plain": "Saving the dataset (0/1 shards):   0%|          | 0/586 [00:00<?, ? examples/s]",
      "application/vnd.jupyter.widget-view+json": {
       "version_major": 2,
       "version_minor": 0,
       "model_id": "ae511bdf3c9941cc990b80c6fc970b10"
      }
     },
     "metadata": {},
     "output_type": "display_data"
    }
   ],
   "source": [
    "for i in range(10):\n",
    "    data_dict=DatasetDict()\n",
    "    data_dict['train']=train_datasets[i]\n",
    "    data_dict['val']=valid_datasets[i]\n",
    "    data_dict.save_to_disk(f'dataset\\cv{i}')\n"
   ],
   "metadata": {
    "collapsed": false,
    "ExecuteTime": {
     "start_time": "2024-04-26T16:34:26.209323Z",
     "end_time": "2024-04-26T16:34:26.726322Z"
    }
   }
  },
  {
   "cell_type": "code",
   "execution_count": 5,
   "outputs": [
    {
     "data": {
      "text/plain": "DatasetDict({\n    train: Dataset({\n        features: ['smiles', 'ids', 'Ames Mutagenicity'],\n        num_rows: 5567\n    })\n    val: Dataset({\n        features: ['smiles', 'ids', 'Ames Mutagenicity'],\n        num_rows: 619\n    })\n})"
     },
     "execution_count": 5,
     "metadata": {},
     "output_type": "execute_result"
    }
   ],
   "source": [],
   "metadata": {
    "collapsed": false,
    "ExecuteTime": {
     "start_time": "2024-04-25T20:56:19.337886Z",
     "end_time": "2024-04-25T20:56:19.346886Z"
    }
   }
  }
 ],
 "metadata": {
  "kernelspec": {
   "display_name": "Python 3",
   "language": "python",
   "name": "python3"
  },
  "language_info": {
   "codemirror_mode": {
    "name": "ipython",
    "version": 2
   },
   "file_extension": ".py",
   "mimetype": "text/x-python",
   "name": "python",
   "nbconvert_exporter": "python",
   "pygments_lexer": "ipython2",
   "version": "2.7.6"
  }
 },
 "nbformat": 4,
 "nbformat_minor": 0
}
